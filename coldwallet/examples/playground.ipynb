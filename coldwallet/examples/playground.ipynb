{
 "metadata": {
  "language_info": {
   "codemirror_mode": {
    "name": "ipython",
    "version": 3
   },
   "file_extension": ".py",
   "mimetype": "text/x-python",
   "name": "python",
   "nbconvert_exporter": "python",
   "pygments_lexer": "ipython3",
   "version": "3.8.5-final"
  },
  "orig_nbformat": 2,
  "kernelspec": {
   "name": "python3",
   "display_name": "Python 3.8.5 64-bit ('env')",
   "metadata": {
    "interpreter": {
     "hash": "87524250064749ac17a234d0d544995a2c636fdf261c64179223ed667c69f840"
    }
   }
  }
 },
 "nbformat": 4,
 "nbformat_minor": 2,
 "cells": [
  {
   "cell_type": "code",
   "execution_count": 76,
   "metadata": {},
   "outputs": [],
   "source": [
    "from protobufs.coldwallet_pb2 import CreateKeyPairsRequest, CreateKeyPairsResponse, PermuteKeyPairsRequest, PermuteKeyPairsResponse\n",
    "import petlib.ec, petlib.bn\n",
    "\n",
    "import zksk\n",
    "\n",
    "from coldwallet.utils.nizk import deserialize_nizk\n",
    "\n",
    "SECP256K1_CURVE_ID = 714\n",
    "SECP256K1_GROUP = petlib.ec.EcGroup(nid=SECP256K1_CURVE_ID)\n",
    "SECP256K1_GENERATOR = SECP256K1_GROUP.generator()"
   ]
  },
  {
   "cell_type": "code",
   "execution_count": 61,
   "metadata": {},
   "outputs": [],
   "source": [
    "N = 1_000\n",
    "req = CreateKeyPairsRequest(numKeys=N)\n",
    "infile_name = f\"create_{N}_keys_req.protobuf\"\n",
    "with open(infile_name, \"wb\") as f:\n",
    "    f.write(req.SerializeToString())"
   ]
  },
  {
   "cell_type": "code",
   "execution_count": 62,
   "metadata": {},
   "outputs": [],
   "source": [
    "outfile_name = f\"create_{N}_keys_resp.protobuf\"\n",
    "!python3 -m coldwallet.coldwallet --database sqlite:///test.db --in $infile_name --out $outfile_name CreateKeyPairs"
   ]
  },
  {
   "cell_type": "code",
   "execution_count": 63,
   "metadata": {},
   "outputs": [],
   "source": [
    "key_pair_resp = CreateKeyPairsResponse()\n",
    "with open(outfile_name, \"rb\") as f:\n",
    "    key_pair_resp.ParseFromString(f.read())"
   ]
  },
  {
   "cell_type": "code",
   "execution_count": 64,
   "metadata": {},
   "outputs": [
    {
     "output_type": "execute_result",
     "data": {
      "text/plain": [
       "('dca329a1728d41f7975cfa523fb4e34e',\n",
       " '03a1e23b487dfe6e3cacfb7d1a6b98e998f49861981b9d6665bf8e6ad00a829d5f')"
      ]
     },
     "metadata": {},
     "execution_count": 64
    }
   ],
   "source": [
    "key_pair_resp.publicKeys[0].id.hex(), key_pair_resp.publicKeys[0].key.hex()"
   ]
  },
  {
   "cell_type": "code",
   "execution_count": 69,
   "metadata": {},
   "outputs": [],
   "source": [
    "ids=[getattr(key_pair_resp.publicKeys[i],'id') for i in range(len(key_pair_resp.publicKeys))]\n",
    "\n",
    "permute_req = PermuteKeyPairsRequest(\n",
    "    ids=[ids[0]]\n",
    ")\n",
    "infile_name = f\"permute_{N}_keys_req.protobuf\"\n",
    "with open(infile_name, \"wb\") as f:\n",
    "    f.write(permute_req.SerializeToString())"
   ]
  },
  {
   "cell_type": "code",
   "execution_count": 70,
   "metadata": {},
   "outputs": [],
   "source": [
    "outfile_name = f\"permute_{N}_keys_resp.protobuf\"\n",
    "!python3 -m coldwallet.coldwallet --database sqlite:///test.db --in $infile_name --out $outfile_name PermuteKeyPairs"
   ]
  },
  {
   "cell_type": "code",
   "execution_count": 72,
   "metadata": {},
   "outputs": [],
   "source": [
    "resp = PermuteKeyPairsResponse()\n",
    "with open(outfile_name, \"rb\") as f:\n",
    "    resp.ParseFromString(f.read())\n",
    "\n",
    "permutation = resp.keyPermutations[0]\n",
    "Y = petlib.ec.EcPt.from_binary(permutation.Y, SECP256K1_GROUP)\n",
    "permutation.Y, key_pair_resp.publicKeys[0].key\n",
    "assert Y == petlib.ec.EcPt.from_binary(key_pair_resp.publicKeys[0].key, SECP256K1_GROUP)"
   ]
  },
  {
   "cell_type": "code",
   "execution_count": 77,
   "metadata": {},
   "outputs": [],
   "source": [
    "x_prime = petlib.bn.Bn.from_binary(permutation.XPrime)\n",
    "Y_prime = x_prime * SECP256K1_GENERATOR\n",
    "k_s = zksk.Secret(name=\"k_s\")\n",
    "stmt = zksk.DLRep(Y_prime, k_s * Y)\n",
    "nizk = deserialize_nizk(permutation.nizk)\n",
    "assert stmt.verify(nizk)"
   ]
  }
 ]
}